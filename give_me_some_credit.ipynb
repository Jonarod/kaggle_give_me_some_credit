{
 "cells": [
  {
   "cell_type": "markdown",
   "metadata": {},
   "source": [
    "# Decouverte et Description des donnees"
   ]
  },
  {
   "cell_type": "code",
   "execution_count": 5,
   "metadata": {},
   "outputs": [],
   "source": [
    "import pandas as pd;\n",
    "import numpy as np;\n",
    "\n",
    "raw_data = pd.read_csv(\"./raw/cs-training.csv\");"
   ]
  },
  {
   "cell_type": "code",
   "execution_count": 9,
   "metadata": {},
   "outputs": [
    {
     "name": "stdout",
     "output_type": "stream",
     "text": [
      "          Unnamed: 0  SeriousDlqin2yrs  RevolvingUtilizationOfUnsecuredLines  \\\n",
      "count  150000.000000     150000.000000                         150000.000000   \n",
      "mean    75000.500000          0.066840                              6.048438   \n",
      "std     43301.414527          0.249746                            249.755371   \n",
      "min         1.000000          0.000000                              0.000000   \n",
      "25%     37500.750000          0.000000                              0.029867   \n",
      "50%     75000.500000          0.000000                              0.154181   \n",
      "75%    112500.250000          0.000000                              0.559046   \n",
      "max    150000.000000          1.000000                          50708.000000   \n",
      "\n",
      "                 age  NumberOfTime30-59DaysPastDueNotWorse      DebtRatio  \\\n",
      "count  150000.000000                         150000.000000  150000.000000   \n",
      "mean       52.295207                              0.421033     353.005076   \n",
      "std        14.771866                              4.192781    2037.818523   \n",
      "min         0.000000                              0.000000       0.000000   \n",
      "25%        41.000000                              0.000000       0.175074   \n",
      "50%        52.000000                              0.000000       0.366508   \n",
      "75%        63.000000                              0.000000       0.868254   \n",
      "max       109.000000                             98.000000  329664.000000   \n",
      "\n",
      "       MonthlyIncome  NumberOfOpenCreditLinesAndLoans  \\\n",
      "count   1.202690e+05                    150000.000000   \n",
      "mean    6.670221e+03                         8.452760   \n",
      "std     1.438467e+04                         5.145951   \n",
      "min     0.000000e+00                         0.000000   \n",
      "25%     3.400000e+03                         5.000000   \n",
      "50%     5.400000e+03                         8.000000   \n",
      "75%     8.249000e+03                        11.000000   \n",
      "max     3.008750e+06                        58.000000   \n",
      "\n",
      "       NumberOfTimes90DaysLate  NumberRealEstateLoansOrLines  \\\n",
      "count            150000.000000                 150000.000000   \n",
      "mean                  0.265973                      1.018240   \n",
      "std                   4.169304                      1.129771   \n",
      "min                   0.000000                      0.000000   \n",
      "25%                   0.000000                      0.000000   \n",
      "50%                   0.000000                      1.000000   \n",
      "75%                   0.000000                      2.000000   \n",
      "max                  98.000000                     54.000000   \n",
      "\n",
      "       NumberOfTime60-89DaysPastDueNotWorse  NumberOfDependents  \n",
      "count                         150000.000000       146076.000000  \n",
      "mean                               0.240387            0.757222  \n",
      "std                                4.155179            1.115086  \n",
      "min                                0.000000            0.000000  \n",
      "25%                                0.000000            0.000000  \n",
      "50%                                0.000000            0.000000  \n",
      "75%                                0.000000            1.000000  \n",
      "max                               98.000000           20.000000  \n"
     ]
    }
   ],
   "source": [
    "print(raw_data.describe());"
   ]
  },
  {
   "cell_type": "markdown",
   "metadata": {},
   "source": [
    "**SeriousDlqin2yrs** = defaut de paiement d'un client, c'est notre variable a predire.\n",
    "\n",
    "**RevolvingUtilizationOfUnsecuredLines** = Solde total sur les cartes de crédit et les marges de crédit personnelles, sauf les biens immobiliers et les dettes sans acomptes comme les prêts-auto divisées par la somme des limites de crédit\n",
    "\n",
    "**age** = age du client\n",
    "\n",
    "**DebtRatio** = Taux de depenses par rapport aux revenus\n",
    "\n",
    "**MonthlyIncome** = Revenu mensuel\n",
    "\n",
    "**NumberOfOpenCreditLinesAndLoans** = Nombre de ligne de credit ouvertes\n",
    "\n",
    "**NumberRealEstateLoansOrLines** = Nombre de credit immobilier ou hypotheques\n",
    "\n",
    "**NumberOfDependents** = Nombre de personnes a charge\n",
    "\n",
    "**NumberOfTime30-59DaysPastDueNotWorse** = Nombre de fois que l'emprunteur a ete en souffrance de paiement de 30 a 59 jours dans les 2 dernieres annees.\n",
    "\n",
    "**NumberOfTime60-89DaysPastDueNotWorse** = Nombre de fois que l'emprunteur a ete en souffrance de paiement de 60 a 89 jours dans les 2 dernieres annees.\n",
    "\n",
    "**NumberOfTimes90DaysLate** = Nombre de fois que l'emprunteur a subi un retard de paiement 90 jours ou plus\n"
   ]
  }
 ],
 "metadata": {
  "kernelspec": {
   "display_name": "Python 3",
   "language": "python",
   "name": "python3"
  },
  "language_info": {
   "codemirror_mode": {
    "name": "ipython",
    "version": 3
   },
   "file_extension": ".py",
   "mimetype": "text/x-python",
   "name": "python",
   "nbconvert_exporter": "python",
   "pygments_lexer": "ipython3",
   "version": "3.5.2"
  }
 },
 "nbformat": 4,
 "nbformat_minor": 2
}
